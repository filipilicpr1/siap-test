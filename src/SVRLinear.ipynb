{
  "cells": [
    {
      "cell_type": "code",
      "execution_count": 1,
      "metadata": {
        "id": "7Iq3CHKFIxBR"
      },
      "outputs": [],
      "source": [
        "import pandas as pd\n",
        "from sklearn.preprocessing import StandardScaler\n",
        "from sklearn.model_selection import train_test_split\n",
        "import numpy as np\n",
        "from sklearn.metrics import mean_squared_error\n",
        "import matplotlib.pyplot as plt\n",
        "from sklearn.svm import LinearSVR"
      ]
    },
    {
      "cell_type": "code",
      "execution_count": 2,
      "metadata": {
        "id": "X9saHy53IxBS"
      },
      "outputs": [
        {
          "data": {
            "text/html": [
              "<div>\n",
              "<style scoped>\n",
              "    .dataframe tbody tr th:only-of-type {\n",
              "        vertical-align: middle;\n",
              "    }\n",
              "\n",
              "    .dataframe tbody tr th {\n",
              "        vertical-align: top;\n",
              "    }\n",
              "\n",
              "    .dataframe thead th {\n",
              "        text-align: right;\n",
              "    }\n",
              "</style>\n",
              "<table border=\"1\" class=\"dataframe\">\n",
              "  <thead>\n",
              "    <tr style=\"text-align: right;\">\n",
              "      <th></th>\n",
              "      <th>categoryId</th>\n",
              "      <th>view_count</th>\n",
              "      <th>likes</th>\n",
              "      <th>dislikes</th>\n",
              "      <th>comment_count</th>\n",
              "      <th>channel_age</th>\n",
              "      <th>image_popularity</th>\n",
              "      <th>text_popularity</th>\n",
              "      <th>days_uploaded</th>\n",
              "      <th>title_length</th>\n",
              "      <th>description_length</th>\n",
              "      <th>tags_count</th>\n",
              "      <th>channel_title_mean_views</th>\n",
              "      <th>channel_title_max_views</th>\n",
              "      <th>channel_title_min_views</th>\n",
              "      <th>channel_title_mean_comments</th>\n",
              "      <th>channel_title_max_comments</th>\n",
              "      <th>channel_title_min_comments</th>\n",
              "    </tr>\n",
              "  </thead>\n",
              "  <tbody>\n",
              "    <tr>\n",
              "      <th>0</th>\n",
              "      <td>22</td>\n",
              "      <td>1514614.0</td>\n",
              "      <td>156908.0</td>\n",
              "      <td>696.438236</td>\n",
              "      <td>35313</td>\n",
              "      <td>1958.0</td>\n",
              "      <td>1</td>\n",
              "      <td>2</td>\n",
              "      <td>1</td>\n",
              "      <td>34</td>\n",
              "      <td>361</td>\n",
              "      <td>143</td>\n",
              "      <td>1.713608e+06</td>\n",
              "      <td>3958226.0</td>\n",
              "      <td>480970.0</td>\n",
              "      <td>18033.333333</td>\n",
              "      <td>45574</td>\n",
              "      <td>1471</td>\n",
              "    </tr>\n",
              "    <tr>\n",
              "      <th>1</th>\n",
              "      <td>20</td>\n",
              "      <td>2381688.0</td>\n",
              "      <td>146739.0</td>\n",
              "      <td>1095.129578</td>\n",
              "      <td>16549</td>\n",
              "      <td>566.0</td>\n",
              "      <td>1</td>\n",
              "      <td>0</td>\n",
              "      <td>1</td>\n",
              "      <td>60</td>\n",
              "      <td>715</td>\n",
              "      <td>448</td>\n",
              "      <td>2.419552e+06</td>\n",
              "      <td>7003748.0</td>\n",
              "      <td>402885.0</td>\n",
              "      <td>8378.864811</td>\n",
              "      <td>27451</td>\n",
              "      <td>1324</td>\n",
              "    </tr>\n",
              "    <tr>\n",
              "      <th>2</th>\n",
              "      <td>24</td>\n",
              "      <td>2038853.0</td>\n",
              "      <td>353787.0</td>\n",
              "      <td>937.489807</td>\n",
              "      <td>40221</td>\n",
              "      <td>4918.0</td>\n",
              "      <td>3</td>\n",
              "      <td>0</td>\n",
              "      <td>1</td>\n",
              "      <td>53</td>\n",
              "      <td>513</td>\n",
              "      <td>384</td>\n",
              "      <td>2.159255e+06</td>\n",
              "      <td>6582365.0</td>\n",
              "      <td>344173.0</td>\n",
              "      <td>18964.178862</td>\n",
              "      <td>207849</td>\n",
              "      <td>1764</td>\n",
              "    </tr>\n",
              "    <tr>\n",
              "      <th>3</th>\n",
              "      <td>10</td>\n",
              "      <td>496771.0</td>\n",
              "      <td>23251.0</td>\n",
              "      <td>228.421445</td>\n",
              "      <td>7647</td>\n",
              "      <td>5088.0</td>\n",
              "      <td>1</td>\n",
              "      <td>1</td>\n",
              "      <td>1</td>\n",
              "      <td>56</td>\n",
              "      <td>762</td>\n",
              "      <td>250</td>\n",
              "      <td>1.111062e+06</td>\n",
              "      <td>4274628.0</td>\n",
              "      <td>124775.0</td>\n",
              "      <td>9658.552326</td>\n",
              "      <td>41789</td>\n",
              "      <td>687</td>\n",
              "    </tr>\n",
              "    <tr>\n",
              "      <th>4</th>\n",
              "      <td>26</td>\n",
              "      <td>1123889.0</td>\n",
              "      <td>45802.0</td>\n",
              "      <td>516.778052</td>\n",
              "      <td>2196</td>\n",
              "      <td>4004.0</td>\n",
              "      <td>1</td>\n",
              "      <td>0</td>\n",
              "      <td>1</td>\n",
              "      <td>55</td>\n",
              "      <td>2493</td>\n",
              "      <td>415</td>\n",
              "      <td>5.394150e+05</td>\n",
              "      <td>2400821.0</td>\n",
              "      <td>182202.0</td>\n",
              "      <td>1524.144578</td>\n",
              "      <td>4867</td>\n",
              "      <td>384</td>\n",
              "    </tr>\n",
              "  </tbody>\n",
              "</table>\n",
              "</div>"
            ],
            "text/plain": [
              "   categoryId  view_count     likes     dislikes  comment_count  channel_age  \\\n",
              "0          22   1514614.0  156908.0   696.438236          35313       1958.0   \n",
              "1          20   2381688.0  146739.0  1095.129578          16549        566.0   \n",
              "2          24   2038853.0  353787.0   937.489807          40221       4918.0   \n",
              "3          10    496771.0   23251.0   228.421445           7647       5088.0   \n",
              "4          26   1123889.0   45802.0   516.778052           2196       4004.0   \n",
              "\n",
              "   image_popularity  text_popularity  days_uploaded  title_length  \\\n",
              "0                 1                2              1            34   \n",
              "1                 1                0              1            60   \n",
              "2                 3                0              1            53   \n",
              "3                 1                1              1            56   \n",
              "4                 1                0              1            55   \n",
              "\n",
              "   description_length  tags_count  channel_title_mean_views  \\\n",
              "0                 361         143              1.713608e+06   \n",
              "1                 715         448              2.419552e+06   \n",
              "2                 513         384              2.159255e+06   \n",
              "3                 762         250              1.111062e+06   \n",
              "4                2493         415              5.394150e+05   \n",
              "\n",
              "   channel_title_max_views  channel_title_min_views  \\\n",
              "0                3958226.0                 480970.0   \n",
              "1                7003748.0                 402885.0   \n",
              "2                6582365.0                 344173.0   \n",
              "3                4274628.0                 124775.0   \n",
              "4                2400821.0                 182202.0   \n",
              "\n",
              "   channel_title_mean_comments  channel_title_max_comments  \\\n",
              "0                 18033.333333                       45574   \n",
              "1                  8378.864811                       27451   \n",
              "2                 18964.178862                      207849   \n",
              "3                  9658.552326                       41789   \n",
              "4                  1524.144578                        4867   \n",
              "\n",
              "   channel_title_min_comments  \n",
              "0                        1471  \n",
              "1                        1324  \n",
              "2                        1764  \n",
              "3                         687  \n",
              "4                         384  "
            ]
          },
          "execution_count": 2,
          "metadata": {},
          "output_type": "execute_result"
        }
      ],
      "source": [
        "df = pd.read_csv('../data/preprocessed_data.csv')\n",
        "df.head()"
      ]
    },
    {
      "cell_type": "code",
      "execution_count": 3,
      "metadata": {
        "id": "IgbfBhb0IxBT"
      },
      "outputs": [],
      "source": [
        "def apply_log(df, column_names):\n",
        "    for column_name in column_names:\n",
        "        df[column_name] = df.apply(lambda row: np.log2(row[column_name]) if row[column_name] != 0 else row[column_name], axis=1)"
      ]
    },
    {
      "cell_type": "code",
      "execution_count": 4,
      "metadata": {
        "id": "RIt0lMoMIxBU"
      },
      "outputs": [],
      "source": [
        "numerical_features = ['view_count', 'dislikes', 'comment_count', 'days_uploaded', 'title_length', 'channel_title_mean_views', 'channel_title_min_views', 'channel_title_max_views', 'tags_count', 'channel_title_mean_comments', 'channel_title_min_comments', 'channel_title_max_comments']\n",
        "categorical_features = ['categoryId', 'image_popularity', 'text_popularity']\n",
        "target = 'likes'"
      ]
    },
    {
      "cell_type": "code",
      "execution_count": 5,
      "metadata": {
        "id": "KKxwuRxFIxBU"
      },
      "outputs": [],
      "source": [
        "numerical_features.append(target)\n",
        "apply_log(df, numerical_features)\n",
        "numerical_features.remove(target)"
      ]
    },
    {
      "cell_type": "code",
      "execution_count": 6,
      "metadata": {
        "id": "E26eH-q_IxBU"
      },
      "outputs": [],
      "source": [
        "features = []\n",
        "features.extend(numerical_features)\n",
        "features.extend(categorical_features)"
      ]
    },
    {
      "cell_type": "code",
      "execution_count": 7,
      "metadata": {
        "colab": {
          "base_uri": "https://localhost:8080/",
          "height": 443
        },
        "id": "SF6U3iNmCd7j",
        "outputId": "1b4f6d6a-e487-416f-850c-7761a383bd3b"
      },
      "outputs": [
        {
          "data": {
            "text/html": [
              "<div>\n",
              "<style scoped>\n",
              "    .dataframe tbody tr th:only-of-type {\n",
              "        vertical-align: middle;\n",
              "    }\n",
              "\n",
              "    .dataframe tbody tr th {\n",
              "        vertical-align: top;\n",
              "    }\n",
              "\n",
              "    .dataframe thead th {\n",
              "        text-align: right;\n",
              "    }\n",
              "</style>\n",
              "<table border=\"1\" class=\"dataframe\">\n",
              "  <thead>\n",
              "    <tr style=\"text-align: right;\">\n",
              "      <th></th>\n",
              "      <th>view_count</th>\n",
              "      <th>dislikes</th>\n",
              "      <th>comment_count</th>\n",
              "      <th>days_uploaded</th>\n",
              "      <th>title_length</th>\n",
              "      <th>channel_title_mean_views</th>\n",
              "      <th>channel_title_min_views</th>\n",
              "      <th>channel_title_max_views</th>\n",
              "      <th>tags_count</th>\n",
              "      <th>channel_title_mean_comments</th>\n",
              "      <th>channel_title_min_comments</th>\n",
              "      <th>channel_title_max_comments</th>\n",
              "      <th>categoryId</th>\n",
              "      <th>image_popularity</th>\n",
              "      <th>text_popularity</th>\n",
              "    </tr>\n",
              "  </thead>\n",
              "  <tbody>\n",
              "    <tr>\n",
              "      <th>0</th>\n",
              "      <td>20.530519</td>\n",
              "      <td>9.443852</td>\n",
              "      <td>15.107912</td>\n",
              "      <td>0.000000</td>\n",
              "      <td>5.087463</td>\n",
              "      <td>20.708606</td>\n",
              "      <td>18.875587</td>\n",
              "      <td>21.916423</td>\n",
              "      <td>7.159871</td>\n",
              "      <td>14.138378</td>\n",
              "      <td>10.522582</td>\n",
              "      <td>15.475923</td>\n",
              "      <td>22</td>\n",
              "      <td>1</td>\n",
              "      <td>2</td>\n",
              "    </tr>\n",
              "    <tr>\n",
              "      <th>1</th>\n",
              "      <td>21.183553</td>\n",
              "      <td>10.096886</td>\n",
              "      <td>14.014456</td>\n",
              "      <td>0.000000</td>\n",
              "      <td>5.906891</td>\n",
              "      <td>21.206308</td>\n",
              "      <td>18.620009</td>\n",
              "      <td>22.739696</td>\n",
              "      <td>8.807355</td>\n",
              "      <td>13.032539</td>\n",
              "      <td>10.370687</td>\n",
              "      <td>14.744571</td>\n",
              "      <td>20</td>\n",
              "      <td>1</td>\n",
              "      <td>0</td>\n",
              "    </tr>\n",
              "    <tr>\n",
              "      <th>2</th>\n",
              "      <td>20.959326</td>\n",
              "      <td>9.872659</td>\n",
              "      <td>15.295661</td>\n",
              "      <td>0.000000</td>\n",
              "      <td>5.727920</td>\n",
              "      <td>21.042102</td>\n",
              "      <td>18.392774</td>\n",
              "      <td>22.650175</td>\n",
              "      <td>8.584963</td>\n",
              "      <td>14.210989</td>\n",
              "      <td>10.784635</td>\n",
              "      <td>17.665176</td>\n",
              "      <td>24</td>\n",
              "      <td>3</td>\n",
              "      <td>0</td>\n",
              "    </tr>\n",
              "    <tr>\n",
              "      <th>3</th>\n",
              "      <td>18.922221</td>\n",
              "      <td>7.835554</td>\n",
              "      <td>12.900678</td>\n",
              "      <td>0.000000</td>\n",
              "      <td>5.807355</td>\n",
              "      <td>20.083507</td>\n",
              "      <td>16.928969</td>\n",
              "      <td>22.027367</td>\n",
              "      <td>7.965784</td>\n",
              "      <td>13.237591</td>\n",
              "      <td>9.424166</td>\n",
              "      <td>15.350836</td>\n",
              "      <td>10</td>\n",
              "      <td>1</td>\n",
              "      <td>1</td>\n",
              "    </tr>\n",
              "    <tr>\n",
              "      <th>4</th>\n",
              "      <td>20.100068</td>\n",
              "      <td>9.013401</td>\n",
              "      <td>11.100662</td>\n",
              "      <td>0.000000</td>\n",
              "      <td>5.781360</td>\n",
              "      <td>19.041036</td>\n",
              "      <td>17.475179</td>\n",
              "      <td>21.195096</td>\n",
              "      <td>8.696968</td>\n",
              "      <td>10.573784</td>\n",
              "      <td>8.584963</td>\n",
              "      <td>12.248817</td>\n",
              "      <td>26</td>\n",
              "      <td>1</td>\n",
              "      <td>0</td>\n",
              "    </tr>\n",
              "    <tr>\n",
              "      <th>...</th>\n",
              "      <td>...</td>\n",
              "      <td>...</td>\n",
              "      <td>...</td>\n",
              "      <td>...</td>\n",
              "      <td>...</td>\n",
              "      <td>...</td>\n",
              "      <td>...</td>\n",
              "      <td>...</td>\n",
              "      <td>...</td>\n",
              "      <td>...</td>\n",
              "      <td>...</td>\n",
              "      <td>...</td>\n",
              "      <td>...</td>\n",
              "      <td>...</td>\n",
              "      <td>...</td>\n",
              "    </tr>\n",
              "    <tr>\n",
              "      <th>245898</th>\n",
              "      <td>19.103856</td>\n",
              "      <td>8.017189</td>\n",
              "      <td>10.831307</td>\n",
              "      <td>2.807355</td>\n",
              "      <td>5.087463</td>\n",
              "      <td>19.240278</td>\n",
              "      <td>17.561907</td>\n",
              "      <td>20.213334</td>\n",
              "      <td>8.005625</td>\n",
              "      <td>12.432614</td>\n",
              "      <td>10.333155</td>\n",
              "      <td>13.854771</td>\n",
              "      <td>23</td>\n",
              "      <td>1</td>\n",
              "      <td>1</td>\n",
              "    </tr>\n",
              "    <tr>\n",
              "      <th>245899</th>\n",
              "      <td>21.218798</td>\n",
              "      <td>10.132131</td>\n",
              "      <td>12.508785</td>\n",
              "      <td>2.807355</td>\n",
              "      <td>5.321928</td>\n",
              "      <td>21.845931</td>\n",
              "      <td>18.395120</td>\n",
              "      <td>23.772112</td>\n",
              "      <td>4.700440</td>\n",
              "      <td>14.775480</td>\n",
              "      <td>10.736402</td>\n",
              "      <td>16.271682</td>\n",
              "      <td>20</td>\n",
              "      <td>1</td>\n",
              "      <td>2</td>\n",
              "    </tr>\n",
              "    <tr>\n",
              "      <th>245900</th>\n",
              "      <td>18.855541</td>\n",
              "      <td>6.518421</td>\n",
              "      <td>8.422065</td>\n",
              "      <td>2.584963</td>\n",
              "      <td>6.339850</td>\n",
              "      <td>19.662608</td>\n",
              "      <td>16.964792</td>\n",
              "      <td>22.307505</td>\n",
              "      <td>8.826548</td>\n",
              "      <td>10.471738</td>\n",
              "      <td>6.686501</td>\n",
              "      <td>13.147523</td>\n",
              "      <td>17</td>\n",
              "      <td>2</td>\n",
              "      <td>3</td>\n",
              "    </tr>\n",
              "    <tr>\n",
              "      <th>245901</th>\n",
              "      <td>19.617442</td>\n",
              "      <td>8.530775</td>\n",
              "      <td>10.945444</td>\n",
              "      <td>2.584963</td>\n",
              "      <td>5.554589</td>\n",
              "      <td>23.416360</td>\n",
              "      <td>18.060005</td>\n",
              "      <td>25.406218</td>\n",
              "      <td>3.700440</td>\n",
              "      <td>14.469762</td>\n",
              "      <td>10.288866</td>\n",
              "      <td>16.320007</td>\n",
              "      <td>24</td>\n",
              "      <td>1</td>\n",
              "      <td>2</td>\n",
              "    </tr>\n",
              "    <tr>\n",
              "      <th>245902</th>\n",
              "      <td>19.217125</td>\n",
              "      <td>8.130458</td>\n",
              "      <td>10.854868</td>\n",
              "      <td>2.807355</td>\n",
              "      <td>5.247928</td>\n",
              "      <td>19.502930</td>\n",
              "      <td>18.003238</td>\n",
              "      <td>20.929019</td>\n",
              "      <td>2.584963</td>\n",
              "      <td>11.544473</td>\n",
              "      <td>9.924813</td>\n",
              "      <td>13.426265</td>\n",
              "      <td>24</td>\n",
              "      <td>0</td>\n",
              "      <td>2</td>\n",
              "    </tr>\n",
              "  </tbody>\n",
              "</table>\n",
              "<p>245903 rows × 15 columns</p>\n",
              "</div>"
            ],
            "text/plain": [
              "        view_count   dislikes  comment_count  days_uploaded  title_length  \\\n",
              "0        20.530519   9.443852      15.107912       0.000000      5.087463   \n",
              "1        21.183553  10.096886      14.014456       0.000000      5.906891   \n",
              "2        20.959326   9.872659      15.295661       0.000000      5.727920   \n",
              "3        18.922221   7.835554      12.900678       0.000000      5.807355   \n",
              "4        20.100068   9.013401      11.100662       0.000000      5.781360   \n",
              "...            ...        ...            ...            ...           ...   \n",
              "245898   19.103856   8.017189      10.831307       2.807355      5.087463   \n",
              "245899   21.218798  10.132131      12.508785       2.807355      5.321928   \n",
              "245900   18.855541   6.518421       8.422065       2.584963      6.339850   \n",
              "245901   19.617442   8.530775      10.945444       2.584963      5.554589   \n",
              "245902   19.217125   8.130458      10.854868       2.807355      5.247928   \n",
              "\n",
              "        channel_title_mean_views  channel_title_min_views  \\\n",
              "0                      20.708606                18.875587   \n",
              "1                      21.206308                18.620009   \n",
              "2                      21.042102                18.392774   \n",
              "3                      20.083507                16.928969   \n",
              "4                      19.041036                17.475179   \n",
              "...                          ...                      ...   \n",
              "245898                 19.240278                17.561907   \n",
              "245899                 21.845931                18.395120   \n",
              "245900                 19.662608                16.964792   \n",
              "245901                 23.416360                18.060005   \n",
              "245902                 19.502930                18.003238   \n",
              "\n",
              "        channel_title_max_views  tags_count  channel_title_mean_comments  \\\n",
              "0                     21.916423    7.159871                    14.138378   \n",
              "1                     22.739696    8.807355                    13.032539   \n",
              "2                     22.650175    8.584963                    14.210989   \n",
              "3                     22.027367    7.965784                    13.237591   \n",
              "4                     21.195096    8.696968                    10.573784   \n",
              "...                         ...         ...                          ...   \n",
              "245898                20.213334    8.005625                    12.432614   \n",
              "245899                23.772112    4.700440                    14.775480   \n",
              "245900                22.307505    8.826548                    10.471738   \n",
              "245901                25.406218    3.700440                    14.469762   \n",
              "245902                20.929019    2.584963                    11.544473   \n",
              "\n",
              "        channel_title_min_comments  channel_title_max_comments  categoryId  \\\n",
              "0                        10.522582                   15.475923          22   \n",
              "1                        10.370687                   14.744571          20   \n",
              "2                        10.784635                   17.665176          24   \n",
              "3                         9.424166                   15.350836          10   \n",
              "4                         8.584963                   12.248817          26   \n",
              "...                            ...                         ...         ...   \n",
              "245898                   10.333155                   13.854771          23   \n",
              "245899                   10.736402                   16.271682          20   \n",
              "245900                    6.686501                   13.147523          17   \n",
              "245901                   10.288866                   16.320007          24   \n",
              "245902                    9.924813                   13.426265          24   \n",
              "\n",
              "        image_popularity  text_popularity  \n",
              "0                      1                2  \n",
              "1                      1                0  \n",
              "2                      3                0  \n",
              "3                      1                1  \n",
              "4                      1                0  \n",
              "...                  ...              ...  \n",
              "245898                 1                1  \n",
              "245899                 1                2  \n",
              "245900                 2                3  \n",
              "245901                 1                2  \n",
              "245902                 0                2  \n",
              "\n",
              "[245903 rows x 15 columns]"
            ]
          },
          "execution_count": 7,
          "metadata": {},
          "output_type": "execute_result"
        }
      ],
      "source": [
        "X = df[features]\n",
        "X"
      ]
    },
    {
      "cell_type": "code",
      "execution_count": 8,
      "metadata": {
        "colab": {
          "base_uri": "https://localhost:8080/"
        },
        "id": "EYI7GuaVCfwi",
        "outputId": "9f8e6516-e109-452a-8e4d-a209100ae91f"
      },
      "outputs": [
        {
          "data": {
            "text/plain": [
              "0         17.259559\n",
              "1         17.162893\n",
              "2         18.432522\n",
              "3         14.505005\n",
              "4         15.483123\n",
              "            ...    \n",
              "245898    16.072572\n",
              "245899    16.800205\n",
              "245900    12.484319\n",
              "245901    14.850382\n",
              "245902    15.707009\n",
              "Name: likes, Length: 245903, dtype: float64"
            ]
          },
          "execution_count": 8,
          "metadata": {},
          "output_type": "execute_result"
        }
      ],
      "source": [
        "y = df[target]\n",
        "y"
      ]
    },
    {
      "cell_type": "code",
      "execution_count": 9,
      "metadata": {
        "colab": {
          "base_uri": "https://localhost:8080/"
        },
        "id": "ARcfODLaCh7G",
        "outputId": "7a91b210-4fcb-4f8b-8251-9d97cbb31a95"
      },
      "outputs": [
        {
          "data": {
            "text/plain": [
              "((196722, 15), (49181, 15), (196722,), (49181,))"
            ]
          },
          "execution_count": 9,
          "metadata": {},
          "output_type": "execute_result"
        }
      ],
      "source": [
        "X_train, X_test, y_train, y_test = train_test_split(X,y, test_size = 0.2, shuffle=False, random_state=42)\n",
        "X_train.shape, X_test.shape, y_train.shape, y_test.shape"
      ]
    },
    {
      "cell_type": "code",
      "execution_count": 18,
      "metadata": {},
      "outputs": [
        {
          "data": {
            "text/html": [
              "<style>#sk-container-id-3 {color: black;background-color: white;}#sk-container-id-3 pre{padding: 0;}#sk-container-id-3 div.sk-toggleable {background-color: white;}#sk-container-id-3 label.sk-toggleable__label {cursor: pointer;display: block;width: 100%;margin-bottom: 0;padding: 0.3em;box-sizing: border-box;text-align: center;}#sk-container-id-3 label.sk-toggleable__label-arrow:before {content: \"▸\";float: left;margin-right: 0.25em;color: #696969;}#sk-container-id-3 label.sk-toggleable__label-arrow:hover:before {color: black;}#sk-container-id-3 div.sk-estimator:hover label.sk-toggleable__label-arrow:before {color: black;}#sk-container-id-3 div.sk-toggleable__content {max-height: 0;max-width: 0;overflow: hidden;text-align: left;background-color: #f0f8ff;}#sk-container-id-3 div.sk-toggleable__content pre {margin: 0.2em;color: black;border-radius: 0.25em;background-color: #f0f8ff;}#sk-container-id-3 input.sk-toggleable__control:checked~div.sk-toggleable__content {max-height: 200px;max-width: 100%;overflow: auto;}#sk-container-id-3 input.sk-toggleable__control:checked~label.sk-toggleable__label-arrow:before {content: \"▾\";}#sk-container-id-3 div.sk-estimator input.sk-toggleable__control:checked~label.sk-toggleable__label {background-color: #d4ebff;}#sk-container-id-3 div.sk-label input.sk-toggleable__control:checked~label.sk-toggleable__label {background-color: #d4ebff;}#sk-container-id-3 input.sk-hidden--visually {border: 0;clip: rect(1px 1px 1px 1px);clip: rect(1px, 1px, 1px, 1px);height: 1px;margin: -1px;overflow: hidden;padding: 0;position: absolute;width: 1px;}#sk-container-id-3 div.sk-estimator {font-family: monospace;background-color: #f0f8ff;border: 1px dotted black;border-radius: 0.25em;box-sizing: border-box;margin-bottom: 0.5em;}#sk-container-id-3 div.sk-estimator:hover {background-color: #d4ebff;}#sk-container-id-3 div.sk-parallel-item::after {content: \"\";width: 100%;border-bottom: 1px solid gray;flex-grow: 1;}#sk-container-id-3 div.sk-label:hover label.sk-toggleable__label {background-color: #d4ebff;}#sk-container-id-3 div.sk-serial::before {content: \"\";position: absolute;border-left: 1px solid gray;box-sizing: border-box;top: 0;bottom: 0;left: 50%;z-index: 0;}#sk-container-id-3 div.sk-serial {display: flex;flex-direction: column;align-items: center;background-color: white;padding-right: 0.2em;padding-left: 0.2em;position: relative;}#sk-container-id-3 div.sk-item {position: relative;z-index: 1;}#sk-container-id-3 div.sk-parallel {display: flex;align-items: stretch;justify-content: center;background-color: white;position: relative;}#sk-container-id-3 div.sk-item::before, #sk-container-id-3 div.sk-parallel-item::before {content: \"\";position: absolute;border-left: 1px solid gray;box-sizing: border-box;top: 0;bottom: 0;left: 50%;z-index: -1;}#sk-container-id-3 div.sk-parallel-item {display: flex;flex-direction: column;z-index: 1;position: relative;background-color: white;}#sk-container-id-3 div.sk-parallel-item:first-child::after {align-self: flex-end;width: 50%;}#sk-container-id-3 div.sk-parallel-item:last-child::after {align-self: flex-start;width: 50%;}#sk-container-id-3 div.sk-parallel-item:only-child::after {width: 0;}#sk-container-id-3 div.sk-dashed-wrapped {border: 1px dashed gray;margin: 0 0.4em 0.5em 0.4em;box-sizing: border-box;padding-bottom: 0.4em;background-color: white;}#sk-container-id-3 div.sk-label label {font-family: monospace;font-weight: bold;display: inline-block;line-height: 1.2em;}#sk-container-id-3 div.sk-label-container {text-align: center;}#sk-container-id-3 div.sk-container {/* jupyter's `normalize.less` sets `[hidden] { display: none; }` but bootstrap.min.css set `[hidden] { display: none !important; }` so we also need the `!important` here to be able to override the default hidden behavior on the sphinx rendered scikit-learn.org. See: https://github.com/scikit-learn/scikit-learn/issues/21755 */display: inline-block !important;position: relative;}#sk-container-id-3 div.sk-text-repr-fallback {display: none;}</style><div id=\"sk-container-id-3\" class=\"sk-top-container\"><div class=\"sk-text-repr-fallback\"><pre>LinearSVR(max_iter=50000, random_state=42, tol=0.1)</pre><b>In a Jupyter environment, please rerun this cell to show the HTML representation or trust the notebook. <br />On GitHub, the HTML representation is unable to render, please try loading this page with nbviewer.org.</b></div><div class=\"sk-container\" hidden><div class=\"sk-item\"><div class=\"sk-estimator sk-toggleable\"><input class=\"sk-toggleable__control sk-hidden--visually\" id=\"sk-estimator-id-3\" type=\"checkbox\" checked><label for=\"sk-estimator-id-3\" class=\"sk-toggleable__label sk-toggleable__label-arrow\">LinearSVR</label><div class=\"sk-toggleable__content\"><pre>LinearSVR(max_iter=50000, random_state=42, tol=0.1)</pre></div></div></div></div></div>"
            ],
            "text/plain": [
              "LinearSVR(max_iter=50000, random_state=42, tol=0.1)"
            ]
          },
          "execution_count": 18,
          "metadata": {},
          "output_type": "execute_result"
        }
      ],
      "source": [
        "model = LinearSVR(random_state=42,max_iter=50000)\n",
        "model.fit(X_train, y_train)"
      ]
    },
    {
      "cell_type": "code",
      "execution_count": 19,
      "metadata": {
        "colab": {
          "base_uri": "https://localhost:8080/"
        },
        "id": "UlG8eol5IxBV",
        "outputId": "1a057d37-2eb7-4976-dce3-07e03ccf6e55"
      },
      "outputs": [
        {
          "data": {
            "text/plain": [
              "(array([16.6609589 , 17.16319491, 16.71939894, ..., 16.07669655,\n",
              "        15.07469834, 14.59665634]),\n",
              " array([14.37130333, 15.04683214, 14.67726054, ..., 12.17553852,\n",
              "        15.14976519, 14.96901371]))"
            ]
          },
          "execution_count": 19,
          "metadata": {},
          "output_type": "execute_result"
        }
      ],
      "source": [
        "pred_train = model.predict(X_train)\n",
        "pred_test = model.predict(X_test)\n",
        "pred_train, pred_test"
      ]
    },
    {
      "cell_type": "code",
      "execution_count": 20,
      "metadata": {
        "colab": {
          "base_uri": "https://localhost:8080/"
        },
        "id": "WE_lPazHIxBV",
        "outputId": "a8c2981e-2b02-4a04-caca-9d4654af3d8e"
      },
      "outputs": [
        {
          "name": "stdout",
          "output_type": "stream",
          "text": [
            "Train RMSE = 0.946602777590297\n",
            "Test RMSE = 0.6156602919400298\n"
          ]
        }
      ],
      "source": [
        "print(f\"Train RMSE = {np.sqrt(mean_squared_error(y_train, pred_train))}\")\n",
        "print(f\"Test RMSE = {np.sqrt(mean_squared_error(y_test, pred_test))}\")"
      ]
    },
    {
      "cell_type": "code",
      "execution_count": 21,
      "metadata": {
        "id": "x5RWCtDIIxBW"
      },
      "outputs": [
        {
          "data": {
            "image/png": "[encoded data removed]",
            "text/plain": [
              "<Figure size 1000x1000 with 1 Axes>"
            ]
          },
          "metadata": {},
          "output_type": "display_data"
        }
      ],
      "source": [
        "plt.figure(figsize=(10,10))\n",
        "plt.scatter(y_test, pred_test, c='green')\n",
        "\n",
        "p1 = max(max(pred_test), max(y_test))\n",
        "p2 = min(min(pred_test), min(y_test))\n",
        "plt.plot([p1, p2], [p1, p2], 'b-')\n",
        "plt.xlabel('True Values', fontsize=15)\n",
        "plt.ylabel('Predictions', fontsize=15)\n",
        "plt.axis('equal')\n",
        "plt.show()"
      ]
    },
    {
      "cell_type": "markdown",
      "metadata": {},
      "source": [
        "Podaci koji se nalaze u preprocessed_data zauzimaju jako veliki opseg pa je model davao jako loše rezultate. Zbog toga prvo je pokušana standardizacija ali model nije davao mnogo bolje rezultate. Na kraju se logaritmovanje pokazalo kao puno bolje rešenje.\n",
        "\n",
        "Najbolji rezultati ostvareni su korišćenjem skoro svih kolona. Starost kanala i dužina opisa video snimka su izbačeni zbog lošeg uticaja na predikciju. \n",
        "\n",
        "Što se tiče parametara modela, pokušane su razne kombinacije. Menjana je vrednost C koeficijenta. Za veće od default (1.0) model je davao lošije rezulatate a manja vrednost nije uticala, tačnost je ostala ista. \n",
        "Max_iter parametar imao je vrednosti 10000, 50000, 100000, 200000 i 300000. Za 200000 se pokazao najbolje, 300000 nije promenilo ništa u odnosu na 200000, dok manji broj iteracija daju nešto lošiji rezultat.\n",
        "Episol nije menjan. \n",
        "Takođe promena tol parametra (tolerancija) se uopšte nije osetila.\n",
        "\n",
        "Korišćeni su i drugi kerneli ali daju identičan rezulatat samo za veće vreme. Poly kernel daje dobar rezulata samo ako je degree = 1 a to znači linearan problem.\n"
      ]
    }
  ],
  "metadata": {
    "colab": {
      "provenance": []
    },
    "kernelspec": {
      "display_name": "Python 3",
      "name": "python3"
    },
    "language_info": {
      "codemirror_mode": {
        "name": "ipython",
        "version": 3
      },
      "file_extension": ".py",
      "mimetype": "text/x-python",
      "name": "python",
      "nbconvert_exporter": "python",
      "pygments_lexer": "ipython3",
      "version": "3.10.0"
    }
  },
  "nbformat": 4,
  "nbformat_minor": 0
}
